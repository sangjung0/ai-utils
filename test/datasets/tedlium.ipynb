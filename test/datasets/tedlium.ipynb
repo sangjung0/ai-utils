{
 "cells": [
  {
   "cell_type": "code",
   "execution_count": null,
   "id": "cb8e2ff3",
   "metadata": {},
   "outputs": [],
   "source": [
    "import os\n",
    "os.environ[\"HF_HUB_ENABLE_HF_TRANSFER\"] = \"0\""
   ]
  },
  {
   "cell_type": "code",
   "execution_count": null,
   "id": "00aab7d1",
   "metadata": {},
   "outputs": [],
   "source": [
    "from sj_ai_utils.hugging_face.tedlium import Tedlium"
   ]
  },
  {
   "cell_type": "code",
   "execution_count": null,
   "id": "0922aeaf",
   "metadata": {},
   "outputs": [],
   "source": [
    "tedlium = Tedlium()"
   ]
  },
  {
   "cell_type": "code",
   "execution_count": null,
   "id": "b26cfc13",
   "metadata": {},
   "outputs": [],
   "source": [
    "tedlium.config_names"
   ]
  },
  {
   "cell_type": "code",
   "execution_count": null,
   "id": "47faecc8",
   "metadata": {},
   "outputs": [],
   "source": [
    "tedlium.split_names()"
   ]
  },
  {
   "cell_type": "code",
   "execution_count": null,
   "id": "7054a923",
   "metadata": {},
   "outputs": [],
   "source": [
    "test_set = tedlium.test(\"release2\")"
   ]
  },
  {
   "cell_type": "code",
   "execution_count": null,
   "id": "856072fd",
   "metadata": {},
   "outputs": [],
   "source": []
  }
 ],
 "metadata": {
  "kernelspec": {
   "display_name": "dev",
   "language": "python",
   "name": "python3"
  },
  "language_info": {
   "codemirror_mode": {
    "name": "ipython",
    "version": 3
   },
   "file_extension": ".py",
   "mimetype": "text/x-python",
   "name": "python",
   "nbconvert_exporter": "python",
   "pygments_lexer": "ipython3",
   "version": "3.10.18"
  }
 },
 "nbformat": 4,
 "nbformat_minor": 5
}

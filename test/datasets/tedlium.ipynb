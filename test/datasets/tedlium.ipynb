{
 "cells": [
  {
   "cell_type": "code",
   "execution_count": null,
   "id": "cb8e2ff3",
   "metadata": {},
   "outputs": [],
   "source": [
    "import os\n",
    "os.environ[\"HF_HUB_ENABLE_HF_TRANSFER\"] = \"0\""
   ]
  },
  {
   "cell_type": "code",
   "execution_count": null,
   "id": "9978ecad",
   "metadata": {},
   "outputs": [],
   "source": [
    "from IPython.display import Audio"
   ]
  },
  {
   "cell_type": "code",
   "execution_count": null,
   "id": "00aab7d1",
   "metadata": {},
   "outputs": [],
   "source": [
    "from sj_ai_utils.hugging_face.tedlium import Tedlium\n",
    "from sj_ai_utils.hugging_face.tedlium.service import load_data"
   ]
  },
  {
   "cell_type": "code",
   "execution_count": null,
   "id": "0922aeaf",
   "metadata": {},
   "outputs": [],
   "source": [
    "tedlium = Tedlium()"
   ]
  },
  {
   "cell_type": "code",
   "execution_count": null,
   "id": "b26cfc13",
   "metadata": {},
   "outputs": [],
   "source": [
    "tedlium.config_names"
   ]
  },
  {
   "cell_type": "code",
   "execution_count": null,
   "id": "47faecc8",
   "metadata": {},
   "outputs": [],
   "source": [
    "tedlium.split_names()"
   ]
  },
  {
   "cell_type": "code",
   "execution_count": null,
   "id": "7054a923",
   "metadata": {},
   "outputs": [],
   "source": [
    "test = tedlium.test(\"release2\")"
   ]
  },
  {
   "cell_type": "code",
   "execution_count": null,
   "id": "856072fd",
   "metadata": {},
   "outputs": [],
   "source": [
    "type(test), len(test)"
   ]
  },
  {
   "cell_type": "code",
   "execution_count": null,
   "id": "4bef1cc0",
   "metadata": {},
   "outputs": [],
   "source": [
    "index = 0"
   ]
  },
  {
   "cell_type": "code",
   "execution_count": null,
   "id": "3da321e6",
   "metadata": {},
   "outputs": [],
   "source": [
    "d = test[index]\n",
    "index += 1\n",
    "print(d)\n",
    "Audio(d[\"audio\"]['array'], rate=d['audio']['sampling_rate'])"
   ]
  },
  {
   "cell_type": "code",
   "execution_count": null,
   "id": "591e4d97",
   "metadata": {},
   "outputs": [],
   "source": [
    "id_set = set()\n",
    "key_set = set()\n",
    "for audio, _id, y, key in load_data(test, 16000):\n",
    "    print(f\"{type(audio)} | {_id} | {key} | {y[:30]}\")\n",
    "    if key in key_set:\n",
    "        raise ValueError(f\"Duplicate key found: {key}\")\n",
    "    key_set.add(key)\n",
    "    if _id in id_set:\n",
    "        raise ValueError(f\"Duplicate id found: {_id}\")\n",
    "    id_set.add(_id)\n",
    "    if len(_id) > 255:\n",
    "        raise ValueError(f\"Key length exceeds 255 characters: {key}\")"
   ]
  }
 ],
 "metadata": {
  "kernelspec": {
   "display_name": "dev",
   "language": "python",
   "name": "python3"
  },
  "language_info": {
   "codemirror_mode": {
    "name": "ipython",
    "version": 3
   },
   "file_extension": ".py",
   "mimetype": "text/x-python",
   "name": "python",
   "nbconvert_exporter": "python",
   "pygments_lexer": "ipython3",
   "version": "3.10.18"
  }
 },
 "nbformat": 4,
 "nbformat_minor": 5
}

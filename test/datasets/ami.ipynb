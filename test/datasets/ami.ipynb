{
 "cells": [
  {
   "cell_type": "code",
   "execution_count": null,
   "id": "bee70802",
   "metadata": {},
   "outputs": [],
   "source": [
    "from sj_ai_utils.hugging_face.ami import AMI"
   ]
  },
  {
   "cell_type": "code",
   "execution_count": null,
   "id": "6c071084",
   "metadata": {},
   "outputs": [],
   "source": [
    "ami = AMI()"
   ]
  },
  {
   "cell_type": "code",
   "execution_count": null,
   "id": "aa9d5339",
   "metadata": {},
   "outputs": [],
   "source": [
    "ami.config_names"
   ]
  },
  {
   "cell_type": "code",
   "execution_count": null,
   "id": "0ad05a6c",
   "metadata": {},
   "outputs": [],
   "source": [
    "ami.split_names()"
   ]
  },
  {
   "cell_type": "code",
   "execution_count": null,
   "id": "0726a774",
   "metadata": {},
   "outputs": [],
   "source": [
    "test = ami.test()"
   ]
  },
  {
   "cell_type": "code",
   "execution_count": null,
   "id": "106b4de1",
   "metadata": {},
   "outputs": [],
   "source": [
    "test[0]"
   ]
  },
  {
   "cell_type": "code",
   "execution_count": null,
   "id": "c308d08b",
   "metadata": {},
   "outputs": [],
   "source": []
  }
 ],
 "metadata": {
  "kernelspec": {
   "display_name": "dev",
   "language": "python",
   "name": "python3"
  },
  "language_info": {
   "codemirror_mode": {
    "name": "ipython",
    "version": 3
   },
   "file_extension": ".py",
   "mimetype": "text/x-python",
   "name": "python",
   "nbconvert_exporter": "python",
   "pygments_lexer": "ipython3",
   "version": "3.10.18"
  }
 },
 "nbformat": 4,
 "nbformat_minor": 5
}

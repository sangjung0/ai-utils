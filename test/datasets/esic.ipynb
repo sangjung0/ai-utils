{
 "cells": [
  {
   "cell_type": "code",
   "execution_count": null,
   "id": "9aa4565c",
   "metadata": {},
   "outputs": [],
   "source": [
    "from pathlib import Path"
   ]
  },
  {
   "cell_type": "code",
   "execution_count": null,
   "id": "ec12ab42",
   "metadata": {},
   "outputs": [],
   "source": [
    "from sj_ai_utils.datasets.esic_v1 import ESICv1\n",
    "from sj_ai_utils.datasets.esic_v1.service import load_data, load_data_v2, search_dirs"
   ]
  },
  {
   "cell_type": "code",
   "execution_count": null,
   "id": "ec44352d",
   "metadata": {},
   "outputs": [],
   "source": [
    "ESIC_PATH = \"/workspaces/dev/.datasets/ESIC-v1.1/v1.1/test\"\n",
    "ESIC_PATH_V2 = \"/workspaces/dev/.datasets/ESIC-v1.1\""
   ]
  },
  {
   "cell_type": "code",
   "execution_count": null,
   "id": "1daf254b",
   "metadata": {},
   "outputs": [],
   "source": [
    "esic = Path(ESIC_PATH)\n",
    "esic_v2 = Path(ESIC_PATH_V2)"
   ]
  },
  {
   "cell_type": "code",
   "execution_count": null,
   "id": "8603d3aa",
   "metadata": {},
   "outputs": [],
   "source": [
    "esic = search_dirs(esic)\n",
    "esic_v2 = ESICv1(esic_v2)"
   ]
  },
  {
   "cell_type": "code",
   "execution_count": null,
   "id": "c24e9dc7",
   "metadata": {},
   "outputs": [],
   "source": [
    "test = esic\n",
    "test_v2 = esic_v2.test()"
   ]
  },
  {
   "cell_type": "code",
   "execution_count": null,
   "id": "98e34aef",
   "metadata": {},
   "outputs": [],
   "source": [
    "test[0]"
   ]
  },
  {
   "cell_type": "code",
   "execution_count": null,
   "id": "835c8d68",
   "metadata": {},
   "outputs": [],
   "source": [
    "test_v2[0]"
   ]
  },
  {
   "cell_type": "code",
   "execution_count": null,
   "id": "3da819ae",
   "metadata": {},
   "outputs": [],
   "source": [
    "id_set = set()\n",
    "key_set = set()\n",
    "for audio, _id, y, key in load_data(test, 16000):\n",
    "    print(f\"{type(audio)} {len(audio)} | {_id} | {key} | {y[:30]}\")\n",
    "    if key in key_set:\n",
    "        raise ValueError(f\"Duplicate key found: {key}\")\n",
    "    key_set.add(key)\n",
    "    if _id in id_set:\n",
    "        raise ValueError(f\"Duplicate id found: {_id}\")\n",
    "    id_set.add(_id)"
   ]
  },
  {
   "cell_type": "code",
   "execution_count": null,
   "id": "74356c86",
   "metadata": {},
   "outputs": [],
   "source": [
    "id_set = set()\n",
    "key_set = set()\n",
    "for audio, _id, y, key in load_data_v2(test_v2, 16000):\n",
    "    print(f\"{type(audio)} | {_id} | {key} | {y[:30]}\")\n",
    "    if key in key_set:\n",
    "        raise ValueError(f\"Duplicate key found: {key}\")\n",
    "    key_set.add(key)\n",
    "    if _id in id_set:\n",
    "        raise ValueError(f\"Duplicate id found: {_id}\")\n",
    "    id_set.add(_id)"
   ]
  }
 ],
 "metadata": {
  "kernelspec": {
   "display_name": "dev",
   "language": "python",
   "name": "python3"
  },
  "language_info": {
   "codemirror_mode": {
    "name": "ipython",
    "version": 3
   },
   "file_extension": ".py",
   "mimetype": "text/x-python",
   "name": "python",
   "nbconvert_exporter": "python",
   "pygments_lexer": "ipython3",
   "version": "3.10.18"
  }
 },
 "nbformat": 4,
 "nbformat_minor": 5
}

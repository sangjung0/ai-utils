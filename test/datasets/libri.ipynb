{
 "cells": [
  {
   "cell_type": "code",
   "execution_count": null,
   "id": "083998cb",
   "metadata": {},
   "outputs": [],
   "source": [
    "from pathlib import Path"
   ]
  },
  {
   "cell_type": "code",
   "execution_count": null,
   "id": "0fee210d",
   "metadata": {},
   "outputs": [],
   "source": [
    "from sj_ai_utils.datasets.libri_speech_asr_corpus import LibriSpeechASRCorpus\n",
    "from sj_ai_utils.datasets.libri_speech_asr_corpus.service import load_data, search_dirs, load_data_v2"
   ]
  },
  {
   "cell_type": "code",
   "execution_count": null,
   "id": "bc8e7348",
   "metadata": {},
   "outputs": [],
   "source": [
    "LIBRI_PATH = \"/workspaces/dev/.datasets/LibriSpeechASRcorpus/test-other\"\n",
    "LIBRI_PATH_V2 = \"/workspaces/dev/.datasets/LibriSpeechASRcorpus\""
   ]
  },
  {
   "cell_type": "code",
   "execution_count": null,
   "id": "bb18bc14",
   "metadata": {},
   "outputs": [],
   "source": [
    "libri_path = Path(LIBRI_PATH)\n",
    "libri_path_v2 = Path(LIBRI_PATH_V2)"
   ]
  },
  {
   "cell_type": "code",
   "execution_count": null,
   "id": "339b9bd3",
   "metadata": {},
   "outputs": [],
   "source": [
    "libri = search_dirs(libri_path)\n",
    "libri_v2 = LibriSpeechASRCorpus(libri_path_v2)"
   ]
  },
  {
   "cell_type": "code",
   "execution_count": null,
   "id": "42c1b691",
   "metadata": {},
   "outputs": [],
   "source": [
    "test = libri\n",
    "test_v2 = libri_v2.test_other()"
   ]
  },
  {
   "cell_type": "code",
   "execution_count": null,
   "id": "bccccf10",
   "metadata": {},
   "outputs": [],
   "source": [
    "id_set = set()\n",
    "key_set = set()\n",
    "for audio, _id, y, key in load_data(test, 16000):\n",
    "    print(f\"{type(audio)} | {_id} | {key} | {y[:30]}\")\n",
    "    if key in key_set:\n",
    "        raise ValueError(f\"Duplicate key found: {key}\")\n",
    "    key_set.add(key)\n",
    "    if _id in id_set:\n",
    "        raise ValueError(f\"Duplicate id found: {_id}\")\n",
    "    id_set.add(_id)"
   ]
  },
  {
   "cell_type": "code",
   "execution_count": null,
   "id": "9520d8f7",
   "metadata": {},
   "outputs": [],
   "source": [
    "id_set = set()\n",
    "key_set = set()\n",
    "for audio, _id, y, key in load_data_v2(test_v2, 16000):\n",
    "    print(f\"{type(audio)} | {_id} | {key} | {y[:30]}\")\n",
    "    if key in key_set:\n",
    "        raise ValueError(f\"Duplicate key found: {key}\")\n",
    "    key_set.add(key)\n",
    "    if _id in id_set:\n",
    "        raise ValueError(f\"Duplicate id found: {_id}\")\n",
    "    id_set.add(_id)"
   ]
  }
 ],
 "metadata": {
  "kernelspec": {
   "display_name": "dev",
   "language": "python",
   "name": "python3"
  },
  "language_info": {
   "codemirror_mode": {
    "name": "ipython",
    "version": 3
   },
   "file_extension": ".py",
   "mimetype": "text/x-python",
   "name": "python",
   "nbconvert_exporter": "python",
   "pygments_lexer": "ipython3",
   "version": "3.10.18"
  }
 },
 "nbformat": 4,
 "nbformat_minor": 5
}

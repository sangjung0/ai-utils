{
 "cells": [
  {
   "cell_type": "code",
   "execution_count": null,
   "id": "b7d74608",
   "metadata": {},
   "outputs": [],
   "source": [
    "import os\n",
    "os.environ[\"HF_HUB_ENABLE_HF_TRANSFER\"] = \"0\""
   ]
  },
  {
   "cell_type": "code",
   "execution_count": null,
   "id": "e4625cf9",
   "metadata": {},
   "outputs": [],
   "source": [
    "from sj_ai_utils.hugging_face.vox_populi import VoxPopuli"
   ]
  },
  {
   "cell_type": "code",
   "execution_count": null,
   "id": "deefa065",
   "metadata": {},
   "outputs": [],
   "source": [
    "vox_populi = VoxPopuli()"
   ]
  },
  {
   "cell_type": "code",
   "execution_count": null,
   "id": "41f37d89",
   "metadata": {},
   "outputs": [],
   "source": [
    "test_set = vox_populi.test()"
   ]
  },
  {
   "cell_type": "code",
   "execution_count": null,
   "id": "6b53cc8d",
   "metadata": {},
   "outputs": [],
   "source": [
    "test_set.features"
   ]
  },
  {
   "cell_type": "code",
   "execution_count": null,
   "id": "3d6e228e",
   "metadata": {},
   "outputs": [],
   "source": [
    "x = test_set[0]['audio']['array']\n",
    "y = test_set[0]['raw_text']\n",
    "x, y"
   ]
  },
  {
   "cell_type": "code",
   "execution_count": null,
   "id": "d9259f18",
   "metadata": {},
   "outputs": [],
   "source": []
  }
 ],
 "metadata": {
  "kernelspec": {
   "display_name": "dev",
   "language": "python",
   "name": "python3"
  },
  "language_info": {
   "codemirror_mode": {
    "name": "ipython",
    "version": 3
   },
   "file_extension": ".py",
   "mimetype": "text/x-python",
   "name": "python",
   "nbconvert_exporter": "python",
   "pygments_lexer": "ipython3",
   "version": "3.10.18"
  }
 },
 "nbformat": 4,
 "nbformat_minor": 5
}

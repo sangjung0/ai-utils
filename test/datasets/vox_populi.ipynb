{
 "cells": [
  {
   "cell_type": "code",
   "execution_count": null,
   "id": "b7d74608",
   "metadata": {},
   "outputs": [],
   "source": [
    "import os\n",
    "os.environ[\"HF_HUB_ENABLE_HF_TRANSFER\"] = \"0\""
   ]
  },
  {
   "cell_type": "code",
   "execution_count": null,
   "id": "e4625cf9",
   "metadata": {},
   "outputs": [],
   "source": [
    "from sj_ai_utils.hugging_face.vox_populi import VoxPopuli\n",
    "from sj_ai_utils.hugging_face.vox_populi.service import load_data"
   ]
  },
  {
   "cell_type": "code",
   "execution_count": null,
   "id": "deefa065",
   "metadata": {},
   "outputs": [],
   "source": [
    "vox_populi = VoxPopuli()"
   ]
  },
  {
   "cell_type": "code",
   "execution_count": null,
   "id": "41f37d89",
   "metadata": {},
   "outputs": [],
   "source": [
    "test = vox_populi.test()"
   ]
  },
  {
   "cell_type": "code",
   "execution_count": null,
   "id": "078cd236",
   "metadata": {},
   "outputs": [],
   "source": [
    "test[0]"
   ]
  },
  {
   "cell_type": "code",
   "execution_count": null,
   "id": "3d6e228e",
   "metadata": {},
   "outputs": [],
   "source": [
    "id_set = set()\n",
    "key_set = set()\n",
    "for audio, _id, y, key in load_data(test, 16000):\n",
    "    print(f\"{type(audio)} | {_id} | {key} | {y[:30]}\")\n",
    "    if key in key_set:\n",
    "        raise ValueError(f\"Duplicate key found: {key}\")\n",
    "    key_set.add(key)\n",
    "    if _id in id_set:\n",
    "        raise ValueError(f\"Duplicate id found: {_id}\")\n",
    "    id_set.add(_id)\n",
    "    if len(_id) > 255:\n",
    "        raise ValueError(f\"Key length exceeds 255 characters: {key}\")"
   ]
  }
 ],
 "metadata": {
  "kernelspec": {
   "display_name": "dev",
   "language": "python",
   "name": "python3"
  },
  "language_info": {
   "codemirror_mode": {
    "name": "ipython",
    "version": 3
   },
   "file_extension": ".py",
   "mimetype": "text/x-python",
   "name": "python",
   "nbconvert_exporter": "python",
   "pygments_lexer": "ipython3",
   "version": "3.10.18"
  }
 },
 "nbformat": 4,
 "nbformat_minor": 5
}

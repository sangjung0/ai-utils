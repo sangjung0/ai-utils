{
 "cells": [
  {
   "cell_type": "code",
   "execution_count": null,
   "id": "cbc0cf79",
   "metadata": {},
   "outputs": [],
   "source": [
    "from IPython.display import Audio"
   ]
  },
  {
   "cell_type": "code",
   "execution_count": null,
   "id": "bee70802",
   "metadata": {},
   "outputs": [],
   "source": [
    "from sj_ai_utils.hugging_face.ami import AMI\n",
    "from sj_ai_utils.hugging_face.ami.service import load_data"
   ]
  },
  {
   "cell_type": "code",
   "execution_count": null,
   "id": "6c071084",
   "metadata": {},
   "outputs": [],
   "source": [
    "ami = AMI()"
   ]
  },
  {
   "cell_type": "code",
   "execution_count": null,
   "id": "aa9d5339",
   "metadata": {},
   "outputs": [],
   "source": [
    "ami.config_names"
   ]
  },
  {
   "cell_type": "code",
   "execution_count": null,
   "id": "0ad05a6c",
   "metadata": {},
   "outputs": [],
   "source": [
    "ami.split_names()"
   ]
  },
  {
   "cell_type": "code",
   "execution_count": null,
   "id": "0726a774",
   "metadata": {},
   "outputs": [],
   "source": [
    "test = ami.test()"
   ]
  },
  {
   "cell_type": "code",
   "execution_count": null,
   "id": "4e999b9a",
   "metadata": {},
   "outputs": [],
   "source": [
    "type(test), len(test)"
   ]
  },
  {
   "cell_type": "code",
   "execution_count": null,
   "id": "6d87225a",
   "metadata": {},
   "outputs": [],
   "source": [
    "index = 0"
   ]
  },
  {
   "cell_type": "code",
   "execution_count": null,
   "id": "106b4de1",
   "metadata": {},
   "outputs": [],
   "source": [
    "d = test[index]\n",
    "index += 1\n",
    "print(d)\n",
    "Audio(d[\"audio\"]['array'], rate=d['audio']['sampling_rate'])"
   ]
  },
  {
   "cell_type": "code",
   "execution_count": null,
   "id": "15aa54bc",
   "metadata": {},
   "outputs": [],
   "source": [
    "id_set = set()\n",
    "key_set = set()\n",
    "for audio, _id, y, key in load_data(test, 16000):\n",
    "    print(f\"{type(audio)} | {_id} | {key} | {y[:30]}\")\n",
    "    if key in key_set:\n",
    "        raise ValueError(f\"Duplicate key found: {key}\")\n",
    "    key_set.add(key)\n",
    "    if _id in id_set:\n",
    "        raise ValueError(f\"Duplicate id found: {_id}\")\n",
    "    id_set.add(_id)\n",
    "    if len(_id) > 255:\n",
    "        raise ValueError(f\"Key length exceeds 255 characters: {key}\")"
   ]
  }
 ],
 "metadata": {
  "kernelspec": {
   "display_name": "dev",
   "language": "python",
   "name": "python3"
  },
  "language_info": {
   "codemirror_mode": {
    "name": "ipython",
    "version": 3
   },
   "file_extension": ".py",
   "mimetype": "text/x-python",
   "name": "python",
   "nbconvert_exporter": "python",
   "pygments_lexer": "ipython3",
   "version": "3.10.18"
  }
 },
 "nbformat": 4,
 "nbformat_minor": 5
}

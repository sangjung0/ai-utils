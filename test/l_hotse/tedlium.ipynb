{
 "cells": [
  {
   "cell_type": "code",
   "execution_count": null,
   "id": "129447ab",
   "metadata": {},
   "outputs": [],
   "source": [
    "from pathlib import Path"
   ]
  },
  {
   "cell_type": "code",
   "execution_count": null,
   "id": "6fef76de",
   "metadata": {},
   "outputs": [],
   "source": [
    "from sj_ai_utils.l_hotse import Tedlium\n",
    "from sj_ai_utils.l_hotse.util import load_data"
   ]
  },
  {
   "cell_type": "code",
   "execution_count": null,
   "id": "0ce1c290",
   "metadata": {},
   "outputs": [],
   "source": [
    "path = Path(\"/workspaces/dev/.datasets/tedlium\")"
   ]
  },
  {
   "cell_type": "code",
   "execution_count": null,
   "id": "54b43f87",
   "metadata": {},
   "outputs": [],
   "source": [
    "tedlium = Tedlium(path)"
   ]
  },
  {
   "cell_type": "code",
   "execution_count": null,
   "id": "f6e73406",
   "metadata": {},
   "outputs": [],
   "source": [
    "dev_set = tedlium.load_dev()"
   ]
  },
  {
   "cell_type": "code",
   "execution_count": null,
   "id": "c067a303",
   "metadata": {},
   "outputs": [],
   "source": [
    "key_set = set()\n",
    "id_set = set()\n",
    "for audio, _id, y, key in load_data(dev_set, 16000, 1):\n",
    "    print(f\"{audio.shape}|{_id}|{key}|{y} \")\n",
    "    if _id in id_set:\n",
    "        raise ValueError(f\"Duplicate recording ID found: {_id}\")\n",
    "    if key in key_set:\n",
    "        raise ValueError(f\"Duplicate key found: {key}\")\n",
    "    id_set.add(_id)\n",
    "    key_set.add(key)"
   ]
  }
 ],
 "metadata": {
  "kernelspec": {
   "display_name": "dev",
   "language": "python",
   "name": "python3"
  },
  "language_info": {
   "codemirror_mode": {
    "name": "ipython",
    "version": 3
   },
   "file_extension": ".py",
   "mimetype": "text/x-python",
   "name": "python",
   "nbconvert_exporter": "python",
   "pygments_lexer": "ipython3",
   "version": "3.10.18"
  }
 },
 "nbformat": 4,
 "nbformat_minor": 5
}

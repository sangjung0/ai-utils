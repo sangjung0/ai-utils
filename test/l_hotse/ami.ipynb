{
 "cells": [
  {
   "cell_type": "code",
   "execution_count": null,
   "id": "129447ab",
   "metadata": {},
   "outputs": [],
   "source": [
    "from pathlib import Path\n",
    "from IPython.display import Audio"
   ]
  },
  {
   "cell_type": "code",
   "execution_count": null,
   "id": "410384e8",
   "metadata": {},
   "outputs": [],
   "source": [
    "from sj_ai_utils.l_hotse import AMI\n",
    "from sj_ai_utils.l_hotse.util import load_data"
   ]
  },
  {
   "cell_type": "code",
   "execution_count": null,
   "id": "0ce1c290",
   "metadata": {},
   "outputs": [],
   "source": [
    "path = Path(\"/workspaces/dev/.datasets/ami\")"
   ]
  },
  {
   "cell_type": "code",
   "execution_count": null,
   "id": "07fc2cbd",
   "metadata": {},
   "outputs": [],
   "source": [
    "ami = AMI(path)"
   ]
  },
  {
   "cell_type": "code",
   "execution_count": null,
   "id": "03ac47fc",
   "metadata": {},
   "outputs": [],
   "source": [
    "dev_set = ami.load_dev_ihm()"
   ]
  },
  {
   "cell_type": "code",
   "execution_count": null,
   "id": "773d06e9",
   "metadata": {},
   "outputs": [],
   "source": [
    "idx = 0\n",
    "key_set = set()\n",
    "id_set = set()\n",
    "for i, (audio, _id, y, key) in enumerate(load_data(dev_set, 16000)):\n",
    "    # print(f\"{audio.shape}|{_id}|{key}|{y} \")\n",
    "    if _id in id_set:\n",
    "        raise ValueError(f\"Duplicate recording ID found: {_id}\")\n",
    "    if key in key_set:\n",
    "        raise ValueError(f\"Duplicate key found: {key}\")\n",
    "    id_set.add(_id)\n",
    "    key_set.add(key)\n",
    "\n",
    "    if i == idx:\n",
    "        break"
   ]
  },
  {
   "cell_type": "code",
   "execution_count": null,
   "id": "57314568",
   "metadata": {},
   "outputs": [],
   "source": [
    "y"
   ]
  },
  {
   "cell_type": "code",
   "execution_count": null,
   "id": "4a3e0cc9",
   "metadata": {},
   "outputs": [],
   "source": [
    "Audio(audio, rate=16000)"
   ]
  }
 ],
 "metadata": {
  "kernelspec": {
   "display_name": "dev",
   "language": "python",
   "name": "python3"
  },
  "language_info": {
   "codemirror_mode": {
    "name": "ipython",
    "version": 3
   },
   "file_extension": ".py",
   "mimetype": "text/x-python",
   "name": "python",
   "nbconvert_exporter": "python",
   "pygments_lexer": "ipython3",
   "version": "3.10.18"
  }
 },
 "nbformat": 4,
 "nbformat_minor": 5
}

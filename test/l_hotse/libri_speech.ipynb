{
 "cells": [
  {
   "cell_type": "code",
   "execution_count": null,
   "id": "129447ab",
   "metadata": {},
   "outputs": [],
   "source": [
    "from pathlib import Path"
   ]
  },
  {
   "cell_type": "code",
   "execution_count": null,
   "id": "734d9865",
   "metadata": {},
   "outputs": [],
   "source": [
    "from sj_ai_utils.l_hotse import LibriSpeech\n",
    "from sj_ai_utils.l_hotse.util import load_data"
   ]
  },
  {
   "cell_type": "code",
   "execution_count": null,
   "id": "0ce1c290",
   "metadata": {},
   "outputs": [],
   "source": [
    "path = Path(\"/workspaces/dev/.datasets/libri_speech\")"
   ]
  },
  {
   "cell_type": "code",
   "execution_count": null,
   "id": "07fc2cbd",
   "metadata": {},
   "outputs": [],
   "source": [
    "libri_speech = LibriSpeech(path)"
   ]
  },
  {
   "cell_type": "code",
   "execution_count": null,
   "id": "c68fa193",
   "metadata": {},
   "outputs": [],
   "source": [
    "dev_set = libri_speech.load_dev_clean()"
   ]
  },
  {
   "cell_type": "code",
   "execution_count": null,
   "id": "2af91f9d",
   "metadata": {},
   "outputs": [],
   "source": [
    "key_set = set()\n",
    "id_set = set()\n",
    "for audio, _id, y, key in load_data(dev_set, 16000, 1):\n",
    "    print(f\"{audio.shape}|{_id}|{key}|{y} \")\n",
    "    if _id in id_set:\n",
    "        raise ValueError(f\"Duplicate recording ID found: {_id}\")\n",
    "    if key in key_set:\n",
    "        raise ValueError(f\"Duplicate key found: {key}\")\n",
    "    id_set.add(_id)\n",
    "    key_set.add(key)"
   ]
  }
 ],
 "metadata": {
  "kernelspec": {
   "display_name": "dev",
   "language": "python",
   "name": "python3"
  },
  "language_info": {
   "codemirror_mode": {
    "name": "ipython",
    "version": 3
   },
   "file_extension": ".py",
   "mimetype": "text/x-python",
   "name": "python",
   "nbconvert_exporter": "python",
   "pygments_lexer": "ipython3",
   "version": "3.10.18"
  }
 },
 "nbformat": 4,
 "nbformat_minor": 5
}
